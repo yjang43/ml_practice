{
  "nbformat": 4,
  "nbformat_minor": 0,
  "metadata": {
    "colab": {
      "name": "TLDA.ipynb",
      "provenance": []
    },
    "kernelspec": {
      "name": "python3",
      "display_name": "Python 3"
    },
    "accelerator": "GPU"
  },
  "cells": [
    {
      "cell_type": "markdown",
      "metadata": {
        "id": "vnjuy4JRH9I4"
      },
      "source": [
        "# Transfer Learning Deep Autoencoders (TLDA)"
      ]
    },
    {
      "cell_type": "code",
      "metadata": {
        "id": "SHZ6aNsESN-S"
      },
      "source": [
        "# preparation\n",
        "import time\n",
        "\n",
        "import torch\n",
        "import torch.nn as nn\n",
        "from torch.utils.data import DataLoader, Dataset\n",
        "import torchvision\n",
        "import matplotlib.pyplot as plt\n"
      ],
      "execution_count": 28,
      "outputs": []
    },
    {
      "cell_type": "markdown",
      "metadata": {
        "id": "gcrlZPexMVX8"
      },
      "source": [
        "This is an implementation practice of TLDA. TLDA is proposed by Zhuang et al. to address issues of what previous feature trasnfer learning methods have neglected.\n",
        "1. Previous methods did not explicitly minimized the distance between domains.\n",
        "2. Due to the approch with unsupervised learning, no discriminative information is encoded.\n",
        "\n",
        "TLDA is a supervised learning with deep encoder which means it requires label to train the model unlike the usual autoencoders."
      ]
    },
    {
      "cell_type": "markdown",
      "metadata": {
        "id": "XmGg7834QS5M"
      },
      "source": [
        "## Model\n",
        "\n",
        "The model is composed of two econding and decoding layers respectively. Encoding layers consist of _embedding layer_ and _label encoding layer_. By minimizing distance of source embedding layer and target embedding layer with KL divergence, the model enforces two domains to share the features. Also, by making label encoding layer to act as if classification layer, model contains discriminative information for source domain as well."
      ]
    },
    {
      "cell_type": "code",
      "metadata": {
        "id": "A6_MezReHzNg"
      },
      "source": [
        "class TLDA(nn.Module):\n",
        "    def __init__(self, inp_sz, emb_sz, cls_sz):\n",
        "        super().__init__()\n",
        "        self.enc_emb = nn.Sequential(nn.Linear(inp_sz, emb_sz), nn.Sigmoid())\n",
        "        self.enc_lb = nn.Sequential(nn.Linear(emb_sz, cls_sz), nn.Sigmoid())\n",
        "        self.dec_lb = nn.Sequential(nn.Linear(cls_sz, emb_sz), nn.Sigmoid())\n",
        "        self.dec_emb = nn.Sequential(nn.Linear(emb_sz, inp_sz), nn.Sigmoid())\n",
        "\n",
        "    def forward(self, src_inp, tgt_inp):\n",
        "        # TLDA takes data from source and target separately\n",
        "        # because they take parts in loss function differently\n",
        "\n",
        "        src_inp  = src_inp.view(-1, 784)    # Shape B x 1 x 28 x 28 to Shape B x 784\n",
        "        tgt_inp  = tgt_inp.view(-1, 784)    # Shape B x 1 x 28 x 28 to Shape B x 784\n",
        "        \n",
        "        src_emb = self.enc_emb(src_inp)\n",
        "        src_pred = self.enc_lb(src_emb)\n",
        "        src_opt = self.dec_lb(src_pred)\n",
        "        src_opt = self.dec_emb(src_opt)\n",
        "\n",
        "        tgt_emb = self.enc_emb(tgt_inp)\n",
        "        tgt_opt = self.enc_lb(tgt_emb)\n",
        "        tgt_opt = self.dec_lb(tgt_opt)\n",
        "        tgt_opt = self.dec_emb(tgt_opt)\n",
        "\n",
        "        return src_emb, tgt_emb, src_opt, tgt_opt, src_pred\n",
        "\n",
        "model = TLDA(784, 10, 2)"
      ],
      "execution_count": 29,
      "outputs": []
    },
    {
      "cell_type": "markdown",
      "metadata": {
        "id": "s4b_mjbzihwm"
      },
      "source": [
        "Let's visualize the graph with tensorboard.\n",
        "We see two tensors only passing through the embedding layer and the last two passing through the entire deep autoencoder, so the graph looks correct"
      ]
    },
    {
      "cell_type": "code",
      "metadata": {
        "id": "UGz15a1CZOer"
      },
      "source": [
        "from torch.utils.tensorboard import SummaryWriter\n",
        "\n",
        "dummy_src_inp = torch.ones(1, 1, 28, 28)\n",
        "dummy_tgt_inp = torch.ones(1, 1, 28, 28)\n",
        "\n",
        "writer = SummaryWriter()\n",
        "writer.add_graph(model, (dummy_src_inp, dummy_tgt_inp))\n",
        "writer.close()\n",
        "\n",
        "# %load_ext tensorboard\n",
        "# %tensorboard --logdir=runs"
      ],
      "execution_count": 30,
      "outputs": []
    },
    {
      "cell_type": "markdown",
      "metadata": {
        "id": "WKqOBq7VjI4D"
      },
      "source": [
        "## Loss Function\n",
        "\n",
        "The loss function of TDLA is unique to other autoencoders. There are four components into it.\n",
        "1. Minimizing reconstruction error with MSE\n",
        "2. Minimizing distribution distance with KL divergence\n",
        "3. Acquiring distinctive information with softmax regression (Cross Entropy Loss)\n",
        "4. Regularization\n",
        "\n",
        "Thus, the loss function looks like the following,\n",
        "\n",
        "$$ Loss = J_r(x, \\hat{x}) + \\alpha\\Gamma(\\xi^{(s)}, \\xi^{(t)}) + \\beta\\mathcal{L}(\\theta, \\xi^{(s)}) + \\gamma\\Omega(W, b, W', b') $$ \n",
        "For the further detail, please refer to the original paper."
      ]
    },
    {
      "cell_type": "code",
      "metadata": {
        "id": "6F3fc-_bhWP0"
      },
      "source": [
        "def rec_err(src_inp, tgt_inp, src_opt, tgt_opt):\n",
        "    # stack src and tgt in column wise so that shape (B_s+B_t) x 784\n",
        "    inp = torch.cat((src_inp, tgt_inp), 0).view(-1, 784)\n",
        "    opt = torch.cat((src_opt, tgt_opt), 0)\n",
        "    # return (inp - opt).square().sum()     # the value is too big, let's do MSE\n",
        "    fn = nn.MSELoss()\n",
        "    return fn(inp, opt)\n",
        "    \n",
        "\n",
        "def dist_diff(src_emb, tgt_emb):\n",
        "    # elm values need to be all positive meaning sigmoid\n",
        "    # assume shape B x E\n",
        "    P_s = src_emb.mean(0)\n",
        "    P_t = tgt_emb.mean(0)\n",
        "    P_s = (P_s / P_s.sum()).log()\n",
        "    P_t = (P_t / P_t.sum()).log()\n",
        "    fn = torch.nn.KLDivLoss(log_target=True)\n",
        "    return fn(P_s, P_t) + fn(P_t, P_s)  # make symmetrical\n",
        "    \n",
        "\n",
        "def pred_err(src_pred, src_lb):\n",
        "    src_pred = src_pred.view(-1, 2)\n",
        "    fn = torch.nn.CrossEntropyLoss()\n",
        "    return fn(src_pred, src_lb)\n",
        "\n",
        "def reg(W1, b1, W2, b2):\n",
        "    # likewise, sqrt to manageable value\n",
        "    return (W1.square().sum() + b1.square().sum() + W2.square().sum() + b2.square().sum()).sqrt()"
      ],
      "execution_count": 31,
      "outputs": []
    },
    {
      "cell_type": "code",
      "metadata": {
        "colab": {
          "base_uri": "https://localhost:8080/"
        },
        "id": "fQJumFpeoQKD",
        "outputId": "8d83252a-38ba-4c26-f228-dc5af3a22885"
      },
      "source": [
        "# loss function test\n",
        "src_inp = torch.randn((4, 784))\n",
        "tgt_inp = torch.randn((2, 784))\n",
        "\n",
        "src_opt = torch.randn((4, 784))\n",
        "tgt_opt = torch.randn((2, 784))\n",
        "\n",
        "src_emb, tgt_emb = torch.randn(4, 5), torch.randn(2, 5)\n",
        "src_emb = src_emb * torch.sign(src_emb)\n",
        "tgt_emb = tgt_emb * torch.sign(tgt_emb)\n",
        "\n",
        "src_lb = torch.randint(0, 2, (4,))\n",
        "\n",
        "print('rec_err:', rec_err(src_inp, tgt_inp, src_opt, tgt_opt))\n",
        "print('dist_diff:', dist_diff(src_emb, tgt_emb))\n",
        "# print('pred_err:', pred_err(src_inp, src_lb))\n"
      ],
      "execution_count": 32,
      "outputs": [
        {
          "output_type": "stream",
          "text": [
            "rec_err: tensor(1.9968)\n",
            "dist_diff: tensor(0.0213)\n"
          ],
          "name": "stdout"
        },
        {
          "output_type": "stream",
          "text": [
            "/usr/local/lib/python3.6/dist-packages/torch/nn/functional.py:2398: UserWarning: reduction: 'mean' divides the total loss by both the batch size and the support size.'batchmean' divides only by the batch size, and aligns with the KL div math definition.'mean' will be changed to behave the same as 'batchmean' in the next major release.\n",
            "  warnings.warn(\"reduction: 'mean' divides the total loss by both the batch size and the support size.\"\n"
          ],
          "name": "stderr"
        }
      ]
    },
    {
      "cell_type": "markdown",
      "metadata": {
        "id": "th-uVYhYNdAg"
      },
      "source": [
        "## Data\n",
        "\n",
        "We will use MNIST number data to explore performance of TLDA.\n",
        "For the sake of simplicity, it will be a binary classificatio task, and labels will be divided into positive and negative after two domains from dataset is picked.\n",
        "For instance, we pick data that are labeled as one and two, and one and three. Then information gained from the first subset will help to classify second subset.\n",
        "\n",
        "For the baseline, we will train DNN shaped same as an encoder with data from source domain and use the parameters trained to predict data from target domain."
      ]
    },
    {
      "cell_type": "code",
      "metadata": {
        "id": "oNxtuH9xuaUF"
      },
      "source": [
        "class SubMNIST(Dataset):\n",
        "    def __init__(self, dataset, pos_idx, neg_idx):\n",
        "        self.dataset = dataset\n",
        "        self.mapping = {\n",
        "            pos_idx: 0,\n",
        "            neg_idx: 1\n",
        "        }\n",
        "        self.sub_dataset = self.subset(pos_idx, neg_idx)\n",
        "        \n",
        "    \n",
        "    def subset(self, pos_idx, neg_idx):\n",
        "        return [(data[0], self.mapping[data[1]]) for data in self.dataset if data[1] in [pos_idx, neg_idx]]\n",
        "    \n",
        "    def __len__(self):\n",
        "        return len(self.sub_dataset)\n",
        "\n",
        "    def __getitem__(self, idx):\n",
        "        return self.sub_dataset[idx]\n",
        "\n",
        "        \n",
        "\n",
        "\n",
        "transform = torchvision.transforms.Compose([torchvision.transforms.ToTensor()])\n",
        "train_dataset = torchvision.datasets.MNIST('data', train=True, transform=transform, download=True)\n",
        "src_dataset = SubMNIST(train_dataset, 8, 5)     # use info from binary classfication of 1 and 2\n",
        "tgt_dataset = SubMNIST(train_dataset, 8, 1)     # to help classify 1 and 3\n",
        "\n",
        "num_batch = 100     # set the number of batches for both source and target domains\n",
        "\n",
        "src_loader = DataLoader(src_dataset, batch_size=len(src_dataset) // num_batch, # note that batch_size varies\n",
        "                        shuffle=True, drop_last=True)\n",
        "tgt_loader = DataLoader(tgt_dataset, batch_size=len(tgt_dataset) // num_batch,\n",
        "                        shuffle=True, drop_last=True)\n"
      ],
      "execution_count": 33,
      "outputs": []
    },
    {
      "cell_type": "markdown",
      "metadata": {
        "id": "-TEHjgRMgTXE"
      },
      "source": [
        "## Train\n",
        "\n",
        "For the memory efficiency, I trained with mini-batch using Adam optimizer. Each batch will contain some number of labeled data from source domain and unlabeled data from target domain. Remember TLDA is a supervised learning method, and only the label from source domain will take part in the loss function.\n"
      ]
    },
    {
      "cell_type": "code",
      "metadata": {
        "colab": {
          "base_uri": "https://localhost:8080/"
        },
        "id": "mD8WUgH8Q3qw",
        "outputId": "27691c27-400e-435e-dceb-71778fc47a6a"
      },
      "source": [
        "model = TLDA(784, 10, 2)\n",
        "\n",
        "lr = 0.001\n",
        "epochs = 50\n",
        "alpha = 0.01     # Different than what is suggested in the paper\n",
        "beta = 0.01\n",
        "gamma = 1e-5\n",
        "\n",
        "optimizer = torch.optim.Adam(model.parameters(), lr)\n",
        "losses = []\n",
        "def train():\n",
        "    for epoch in range(epochs):\n",
        "        total_loss = 0\n",
        "        cur_time = time.time()\n",
        "        for batch_i, sampled_batch in enumerate(zip(src_loader, tgt_loader)):\n",
        "            src, tgt = sampled_batch\n",
        "            src_imgs, src_lbs = src\n",
        "            tgt_imgs, _ = tgt     # target labels won't be used\n",
        "\n",
        "            optimizer.zero_grad()\n",
        "            src_emb, tgt_emb, src_opt, tgt_opt, src_pred = model(src_imgs, tgt_imgs)\n",
        "            param = model.state_dict()\n",
        "            loss = rec_err(src_imgs, tgt_imgs, src_opt, tgt_opt)\\\n",
        "                   + alpha * dist_diff(src_emb, tgt_emb)\\\n",
        "                   + beta * pred_err(src_pred, src_lbs)\\\n",
        "                   + gamma * reg(model.enc_emb[0].weight, model.enc_emb[0].bias, \n",
        "                         model.enc_lb[0].weight, model.enc_lb[0].bias)\n",
        "            loss.backward()\n",
        "            optimizer.step()\n",
        "            total_loss += loss\n",
        "        if epoch % 5 == 4:\n",
        "            print(f\"epoch: {epoch+1}\\tloss: {round(total_loss.item() / num_batch, 4)},\\ttime: {round(time.time() - cur_time, 4)}\") \n",
        "        losses.append(round(total_loss.item() / num_batch, 5))\n",
        "\n",
        "train()\n",
        "\n",
        "\n",
        "\n"
      ],
      "execution_count": 34,
      "outputs": [
        {
          "output_type": "stream",
          "text": [
            "/usr/local/lib/python3.6/dist-packages/torch/nn/functional.py:2398: UserWarning: reduction: 'mean' divides the total loss by both the batch size and the support size.'batchmean' divides only by the batch size, and aligns with the KL div math definition.'mean' will be changed to behave the same as 'batchmean' in the next major release.\n",
            "  warnings.warn(\"reduction: 'mean' divides the total loss by both the batch size and the support size.\"\n"
          ],
          "name": "stderr"
        },
        {
          "output_type": "stream",
          "text": [
            "epoch: 5\tloss: 0.0703,\ttime: 0.5127\n",
            "epoch: 10\tloss: 0.0628,\ttime: 0.5024\n",
            "epoch: 15\tloss: 0.0612,\ttime: 0.5136\n",
            "epoch: 20\tloss: 0.0597,\ttime: 0.5144\n",
            "epoch: 25\tloss: 0.0583,\ttime: 0.5578\n",
            "epoch: 30\tloss: 0.0574,\ttime: 0.5552\n",
            "epoch: 35\tloss: 0.0565,\ttime: 0.5258\n",
            "epoch: 40\tloss: 0.0548,\ttime: 0.5447\n",
            "epoch: 45\tloss: 0.053,\ttime: 0.5719\n",
            "epoch: 50\tloss: 0.0518,\ttime: 0.5074\n"
          ],
          "name": "stdout"
        }
      ]
    },
    {
      "cell_type": "markdown",
      "metadata": {
        "id": "s83Js9Ihfw8X"
      },
      "source": [
        "Visualization of training process."
      ]
    },
    {
      "cell_type": "code",
      "metadata": {
        "colab": {
          "base_uri": "https://localhost:8080/",
          "height": 337
        },
        "id": "6dusKvYido38",
        "outputId": "68abdecc-e033-44ae-fac2-9d7bc4142f58"
      },
      "source": [
        "plt.plot(list(range(epochs)), losses)"
      ],
      "execution_count": 35,
      "outputs": [
        {
          "output_type": "execute_result",
          "data": {
            "text/plain": [
              "[<matplotlib.lines.Line2D at 0x7f03762adbe0>]"
            ]
          },
          "metadata": {
            "tags": []
          },
          "execution_count": 35
        },
        {
          "output_type": "display_data",
          "data": {
            "image/png": "[encoded data removed]",
            "text/plain": [
              "<Figure size 360x360 with 1 Axes>"
            ]
          },
          "metadata": {
            "tags": [],
            "needs_background": "light"
          }
        }
      ]
    },
    {
      "cell_type": "markdown",
      "metadata": {
        "id": "k9qf5oP7hTAy"
      },
      "source": [
        "Features learned during training looks like the below image. This will later be compared with our baseline model."
      ]
    },
    {
      "cell_type": "code",
      "metadata": {
        "colab": {
          "base_uri": "https://localhost:8080/",
          "height": 239
        },
        "id": "2me7fYmhOZ6K",
        "outputId": "b0e45f93-100b-4845-e3e5-1ab6c08d9c1d"
      },
      "source": [
        "# visualization\n",
        "\n",
        "plt.rcParams[\"figure.figsize\"]=20, 20\n",
        "\n",
        "print(model.state_dict().keys())\n",
        "weight = model.state_dict()['enc_emb.0.weight']\n",
        "print(weight.size())        # Shape 10 x 784\n",
        "weight = weight.view(-1, 1, 28, 28)     # Change shape to conform arg shape of make_grid, B x C x W x H\n",
        "plt.imshow(torchvision.utils.make_grid(weight, nrow=10).permute(1, 2, 0))\n",
        "plt.rcParams[\"figure.figsize\"]=5, 5\n",
        "TLDA_weight = weight"
      ],
      "execution_count": 36,
      "outputs": [
        {
          "output_type": "stream",
          "text": [
            "Clipping input data to the valid range for imshow with RGB data ([0..1] for floats or [0..255] for integers).\n"
          ],
          "name": "stderr"
        },
        {
          "output_type": "stream",
          "text": [
            "odict_keys(['enc_emb.0.weight', 'enc_emb.0.bias', 'enc_lb.0.weight', 'enc_lb.0.bias', 'dec_lb.0.weight', 'dec_lb.0.bias', 'dec_emb.0.weight', 'dec_emb.0.bias'])\n",
            "torch.Size([10, 784])\n"
          ],
          "name": "stdout"
        },
        {
          "output_type": "display_data",
          "data": {
            "image/png": "[encoded data removed]",
            "text/plain": [
              "<Figure size 1440x1440 with 1 Axes>"
            ]
          },
          "metadata": {
            "tags": [],
            "needs_background": "light"
          }
        }
      ]
    },
    {
      "cell_type": "markdown",
      "metadata": {
        "id": "f_fPe4iThu3M"
      },
      "source": [
        "## Evaluation\n",
        "\n",
        "Evaluation process is simple. Since dataset is not skewed, we will simply compute the accuracy of prediction."
      ]
    },
    {
      "cell_type": "code",
      "metadata": {
        "colab": {
          "base_uri": "https://localhost:8080/"
        },
        "id": "3AeKEcRyuAVF",
        "outputId": "53621734-9043-4b9f-9801-c6109c3eb0db"
      },
      "source": [
        "# classification\n",
        "total_accuracy = 0\n",
        "for batch_i, sampled_batch in enumerate(tgt_loader):\n",
        "    imgs, lbs = sampled_batch\n",
        "    _, _, _, _, pred = model(imgs, imgs)\n",
        "    pred = torch.softmax(pred, 1)\n",
        "    pred = pred.argmax(1)\n",
        "    accuracy = (pred == lbs).sum() / pred.size()[0]\n",
        "    total_accuracy += accuracy\n",
        "total_accuracy = total_accuracy / num_batch\n",
        "print(f\"accuracy: {round(total_accuracy.item() * 100, 2)}%\")\n"
      ],
      "execution_count": 37,
      "outputs": [
        {
          "output_type": "stream",
          "text": [
            "accuracy: 73.44%\n"
          ],
          "name": "stdout"
        }
      ]
    },
    {
      "cell_type": "markdown",
      "metadata": {
        "id": "Tt6CL2TOh9Np"
      },
      "source": [
        "## Baseline\n",
        "\n",
        "We will compute DNN the same shaped as encoder side of TLDA. Likewise, we will evaluate the perfomance of transfer with checking how accurately the model predicts data from target domain with parameter taught in source domain."
      ]
    },
    {
      "cell_type": "code",
      "metadata": {
        "colab": {
          "base_uri": "https://localhost:8080/"
        },
        "id": "c8wf66oZ_eib",
        "outputId": "a64ba0bd-f5be-44be-a392-a31113b627e1"
      },
      "source": [
        "# baseline\n",
        "class DNN(nn.Module):\n",
        "    def __init__(self, inp_sz, hdn_sz, cls_sz):\n",
        "        super().__init__()\n",
        "        self.lin1 = nn.Sequential(\n",
        "            nn.Linear(inp_sz, hdn_sz),\n",
        "            nn.Sigmoid()\n",
        "        )\n",
        "        self.lin2 = nn.Sequential(\n",
        "            nn.Linear(hdn_sz, cls_sz),\n",
        "            nn.Sigmoid()\n",
        "        )\n",
        "    def forward(self, x):\n",
        "        x = x.view(-1, 784)\n",
        "        y = self.lin1(x)\n",
        "        y = self.lin2(y)\n",
        "        return y\n",
        "\n",
        "# train\n",
        "model = DNN(784, 10, 2)\n",
        "criterion = nn.CrossEntropyLoss()\n",
        "optimizer = torch.optim.Adam(model.parameters(), 0.001)\n",
        "epochs = 50\n",
        "\n",
        "for epoch in range(epochs):\n",
        "    total_loss = 0\n",
        "    cur_time = time.time()\n",
        "    for batch_i, sampled_batch in enumerate(src_loader):\n",
        "        imgs, lbs = sampled_batch\n",
        "        optimizer.zero_grad()\n",
        "        output = model(imgs)\n",
        "        loss = criterion(output, lbs)\n",
        "        loss.backward()\n",
        "        optimizer.step()\n",
        "        total_loss += loss\n",
        "    if epoch % 5 == 4:\n",
        "            print(f\"epoch: {epoch + 1}\\tloss: {round(total_loss.item() / num_batch, 4)},\\ttime: {round(time.time() - cur_time, 4)}\") \n",
        "\n",
        "\n",
        "total_accuracy = 0\n",
        "for batch_i, sampled_batch in enumerate(tgt_loader):\n",
        "    imgs, lbs = sampled_batch\n",
        "    pred = model(imgs)\n",
        "    pred = torch.softmax(pred, 1)\n",
        "    pred = pred.argmax(1)\n",
        "    accuracy = (pred == lbs).sum() / pred.size()[0]\n",
        "    total_accuracy += accuracy\n",
        "total_accuracy = total_accuracy / num_batch\n",
        "print(f\"accuracy: {round(total_accuracy.item() * 100, 2)}%\")\n"
      ],
      "execution_count": 38,
      "outputs": [
        {
          "output_type": "stream",
          "text": [
            "epoch: 5\tloss: 0.4197,\ttime: 0.1299\n",
            "epoch: 10\tloss: 0.3745,\ttime: 0.1354\n",
            "epoch: 15\tloss: 0.3601,\ttime: 0.1508\n",
            "epoch: 20\tloss: 0.3523,\ttime: 0.1273\n",
            "epoch: 25\tloss: 0.3472,\ttime: 0.1257\n",
            "epoch: 30\tloss: 0.3436,\ttime: 0.1543\n",
            "epoch: 35\tloss: 0.3404,\ttime: 0.1275\n",
            "epoch: 40\tloss: 0.3373,\ttime: 0.1304\n",
            "epoch: 45\tloss: 0.3343,\ttime: 0.1527\n",
            "epoch: 50\tloss: 0.3321,\ttime: 0.1241\n",
            "accuracy: 48.65%\n"
          ],
          "name": "stdout"
        }
      ]
    },
    {
      "cell_type": "markdown",
      "metadata": {
        "id": "cya-oRRulNTB"
      },
      "source": [
        "## Comparison\n",
        "\n",
        "The accuracy for each model was __73.44% for TLDA while 47.3% for baseline__.\n",
        "\n",
        "I find it iteresting the most when I get to see what computer sees.\n",
        "I extracted hidden layers from each trained model (TLDA and baseline). What they see as features are very different as you see from the pictures below.\n",
        "What I see is the features in TLDA is much more general than the features learned in the baseline."
      ]
    },
    {
      "cell_type": "code",
      "metadata": {
        "colab": {
          "base_uri": "https://localhost:8080/",
          "height": 398
        },
        "id": "WbX7HkhvKTpP",
        "outputId": "4ddbc699-99a5-4c6a-d2ad-0aca3fa7c54a"
      },
      "source": [
        "# visualization\n",
        "\n",
        "plt.rcParams[\"figure.figsize\"]=20, 5\n",
        "\n",
        "print(model.state_dict().keys())\n",
        "weight = model.state_dict()['lin1.0.weight']\n",
        "print(weight.size())        # Shape 10 x 784\n",
        "weight = weight.view(-1, 1, 28, 28)     # Change shape to conform arg shape of make_grid, B x C x W x H\n",
        "plt.subplot(2, 1, 1)\n",
        "plt.title(\"TLDA \")\n",
        "plt.imshow(torchvision.utils.make_grid(TLDA_weight, nrow=10).permute(1, 2, 0))\n",
        "plt.subplot(2, 1, 2)\n",
        "plt.title(\"Baseline\")\n",
        "plt.imshow(torchvision.utils.make_grid(weight, nrow=10).permute(1, 2, 0))\n",
        "plt.rcParams[\"figure.figsize\"]=5, 5"
      ],
      "execution_count": 39,
      "outputs": [
        {
          "output_type": "stream",
          "text": [
            "Clipping input data to the valid range for imshow with RGB data ([0..1] for floats or [0..255] for integers).\n",
            "Clipping input data to the valid range for imshow with RGB data ([0..1] for floats or [0..255] for integers).\n"
          ],
          "name": "stderr"
        },
        {
          "output_type": "stream",
          "text": [
            "odict_keys(['lin1.0.weight', 'lin1.0.bias', 'lin2.0.weight', 'lin2.0.bias'])\n",
            "torch.Size([10, 784])\n"
          ],
          "name": "stdout"
        },
        {
          "output_type": "display_data",
          "data": {
            "image/png": "[encoded data removed]",
            "text/plain": [
              "<Figure size 1440x360 with 2 Axes>"
            ]
          },
          "metadata": {
            "tags": [],
            "needs_background": "light"
          }
        }
      ]
    },
    {
      "cell_type": "code",
      "metadata": {
        "id": "ccPbqaIjQ4jT"
      },
      "source": [
        ""
      ],
      "execution_count": 39,
      "outputs": []
    }
  ]
}